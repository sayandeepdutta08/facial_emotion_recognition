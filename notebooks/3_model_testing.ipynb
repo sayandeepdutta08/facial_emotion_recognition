{
 "cells": [
  {
   "cell_type": "markdown",
   "id": "ba04c8dc-0d2c-41f3-85ae-79cbce4c6525",
   "metadata": {},
   "source": [
    "# Import necessary libraries"
   ]
  },
  {
   "cell_type": "code",
   "execution_count": 1,
   "id": "1173aaa3-5a8b-4e1f-917a-0078f09b35e9",
   "metadata": {},
   "outputs": [],
   "source": [
    "import os\n",
    "import numpy as np\n",
    "import cv2\n",
    "import matplotlib.pyplot as plt\n",
    "from tensorflow.keras.models import load_model\n",
    "from sklearn.metrics import classification_report, confusion_matrix, accuracy_score\n",
    "import seaborn as sns"
   ]
  },
  {
   "cell_type": "markdown",
   "id": "62283661-5bb3-4f1a-80c6-4f79b9c20441",
   "metadata": {},
   "source": [
    "# Loading the trained model"
   ]
  },
  {
   "cell_type": "code",
   "execution_count": 3,
   "id": "8659d708-4088-459e-b32f-2227c27fc07c",
   "metadata": {},
   "outputs": [
    {
     "name": "stderr",
     "output_type": "stream",
     "text": [
      "WARNING:absl:Compiled the loaded model, but the compiled metrics have yet to be built. `model.compile_metrics` will be empty until you train or evaluate the model.\n"
     ]
    }
   ],
   "source": [
    "model_path = '../saved_models/emotion_recognition_model.h5'\n",
    "model = load_model(model_path)"
   ]
  },
  {
   "cell_type": "markdown",
   "id": "b5d2df83-cab0-4a3c-a0ba-f3dd450ac2d4",
   "metadata": {},
   "source": [
    "# Emotion labels"
   ]
  },
  {
   "cell_type": "code",
   "execution_count": 5,
   "id": "90878124-512b-486a-b8eb-bbeb637eea42",
   "metadata": {},
   "outputs": [],
   "source": [
    "emotion_labels = ['anger', 'contempt', 'disgust', 'fear', 'happy','neutral', 'sad', 'surprised']"
   ]
  },
  {
   "cell_type": "markdown",
   "id": "2957db2f-2056-4388-a285-88e68806758d",
   "metadata": {},
   "source": [
    "# Set paths and parameters"
   ]
  },
  {
   "cell_type": "code",
   "execution_count": 7,
   "id": "fa14e9ca-43fe-4cad-873f-8071a7f9de65",
   "metadata": {},
   "outputs": [],
   "source": [
    "image_dir = '../data/images/'\n",
    "image_size = (48, 48)"
   ]
  },
  {
   "cell_type": "markdown",
   "id": "25338946-d275-4a1e-bdf1-2da05f161a08",
   "metadata": {},
   "source": [
    "# Function to preprocess an image"
   ]
  },
  {
   "cell_type": "code",
   "execution_count": 9,
   "id": "1d7a7cce-c408-43d4-97df-c6cb77e3afa6",
   "metadata": {},
   "outputs": [],
   "source": [
    "def preprocess_image(img_path):\n",
    "    img = cv2.imread(img_path)\n",
    "    img = cv2.resize(img, image_size)\n",
    "    img = img / 255.0\n",
    "    return img\n"
   ]
  },
  {
   "cell_type": "markdown",
   "id": "8d217f60-ca4b-40d5-8051-e0cd800434cb",
   "metadata": {},
   "source": [
    "# Load test images and true labels"
   ]
  },
  {
   "cell_type": "code",
   "execution_count": 11,
   "id": "554b4d81-56fb-4809-bbba-a7c8c72992a2",
   "metadata": {},
   "outputs": [],
   "source": [
    "test_images = []\n",
    "true_labels = []\n",
    "for folder in os.listdir(image_dir):\n",
    "    folder_path = os.path.join(image_dir, folder)\n",
    "    if not os.path.isdir(folder_path):\n",
    "        continue\n",
    "\n",
    "    for img_file in os.listdir(folder_path):\n",
    "        img_path = os.path.join(folder_path, img_file)\n",
    "        if not img_file.endswith(('.jpg', '.png')):\n",
    "            continue\n",
    "\n",
    "        # Preprocess image and append to the test set\n",
    "        try:\n",
    "            img = preprocess_image(img_path)\n",
    "            test_images.append(img)\n",
    "            # Extract true label from filename (e.g., \"anger.jpg\" -> \"anger\")\n",
    "            true_labels.append(img_file.split('.')[0].lower())\n",
    "        except Exception as e:\n",
    "            print(f\"Error processing {img_path}: {e}\")"
   ]
  },
  {
   "cell_type": "markdown",
   "id": "5a4ceeaf-abfb-4613-b8c9-0f28fdf1d8fb",
   "metadata": {},
   "source": [
    "# Convert to NumPy arrays"
   ]
  },
  {
   "cell_type": "code",
   "execution_count": 13,
   "id": "11931635-bc09-4472-8efb-8734cc3dee38",
   "metadata": {},
   "outputs": [],
   "source": [
    "test_images = np.array(test_images)\n",
    "true_labels = np.array(true_labels)"
   ]
  },
  {
   "cell_type": "markdown",
   "id": "a5967934-c894-431f-a0a3-f49329fa36d6",
   "metadata": {},
   "source": [
    "# Predict using the trained model"
   ]
  },
  {
   "cell_type": "code",
   "execution_count": 15,
   "id": "7b73251a-157d-4650-a6bd-b02b9a3e8dd8",
   "metadata": {},
   "outputs": [
    {
     "name": "stdout",
     "output_type": "stream",
     "text": [
      "\u001b[1m5/5\u001b[0m \u001b[32m━━━━━━━━━━━━━━━━━━━━\u001b[0m\u001b[37m\u001b[0m \u001b[1m0s\u001b[0m 21ms/step\n"
     ]
    }
   ],
   "source": [
    "predictions = model.predict(test_images)\n",
    "predicted_labels = [emotion_labels[np.argmax(pred)] for pred in predictions]"
   ]
  },
  {
   "cell_type": "markdown",
   "id": "24007c96-752c-4e7a-95e1-a6a146cb32bd",
   "metadata": {},
   "source": [
    "# Evaluate the model"
   ]
  },
  {
   "cell_type": "code",
   "execution_count": 17,
   "id": "0cca6f10-2677-4658-8c1a-aa884fca2e93",
   "metadata": {},
   "outputs": [
    {
     "name": "stdout",
     "output_type": "stream",
     "text": [
      "Classification Report:\n",
      "              precision    recall  f1-score   support\n",
      "\n",
      "       anger       0.65      0.68      0.67        19\n",
      "    contempt       0.60      0.63      0.62        19\n",
      "     disgust       0.75      0.47      0.58        19\n",
      "        fear       0.72      0.68      0.70        19\n",
      "       happy       0.58      0.58      0.58        19\n",
      "     neutral       0.60      0.79      0.68        19\n",
      "         sad       0.67      0.63      0.65        19\n",
      "   surprised       0.60      0.63      0.62        19\n",
      "\n",
      "    accuracy                           0.64       152\n",
      "   macro avg       0.65      0.64      0.64       152\n",
      "weighted avg       0.65      0.64      0.64       152\n",
      "\n"
     ]
    }
   ],
   "source": [
    "print(\"Classification Report:\")\n",
    "print(classification_report(true_labels, predicted_labels, target_names=emotion_labels))"
   ]
  },
  {
   "cell_type": "markdown",
   "id": "964017bd-4c8e-4231-a4f7-9b2e6eb49814",
   "metadata": {},
   "source": [
    "# Calculate confusion matrix"
   ]
  },
  {
   "cell_type": "code",
   "execution_count": 20,
   "id": "cb713419-ff34-4e62-b011-b82a0a9341f7",
   "metadata": {},
   "outputs": [],
   "source": [
    "conf_matrix = confusion_matrix(true_labels, predicted_labels, labels=emotion_labels)"
   ]
  },
  {
   "cell_type": "code",
   "execution_count": 22,
   "id": "fe23bc49-dc18-4d0a-ba3a-6fed1356ab4a",
   "metadata": {},
   "outputs": [
    {
     "data": {
      "image/png": "[encoded data removed]",
      "text/plain": [
       "<Figure size 1000x800 with 2 Axes>"
      ]
     },
     "metadata": {},
     "output_type": "display_data"
    }
   ],
   "source": [
    "# Visualize confusion matrix\n",
    "plt.figure(figsize=(10, 8))\n",
    "sns.heatmap(conf_matrix, annot=True, fmt='d', cmap='Blues', xticklabels=emotion_labels, yticklabels=emotion_labels)\n",
    "plt.xlabel('Predicted Labels')\n",
    "plt.ylabel('True Labels')\n",
    "plt.title('Confusion Matrix')\n",
    "plt.show()\n"
   ]
  },
  {
   "cell_type": "code",
   "execution_count": 24,
   "id": "e4149d69-f2b1-4dcf-b531-dccb51ce4f7a",
   "metadata": {},
   "outputs": [
    {
     "name": "stdout",
     "output_type": "stream",
     "text": [
      "Model Accuracy: 0.64\n"
     ]
    }
   ],
   "source": [
    "# Overall accuracy\n",
    "accuracy = accuracy_score(true_labels, predicted_labels)\n",
    "print(f\"Model Accuracy: {accuracy:.2f}\")"
   ]
  }
 ],
 "metadata": {
  "kernelspec": {
   "display_name": "Python 3 (ipykernel)",
   "language": "python",
   "name": "python3"
  },
  "language_info": {
   "codemirror_mode": {
    "name": "ipython",
    "version": 3
   },
   "file_extension": ".py",
   "mimetype": "text/x-python",
   "name": "python",
   "nbconvert_exporter": "python",
   "pygments_lexer": "ipython3",
   "version": "3.12.7"
  }
 },
 "nbformat": 4,
 "nbformat_minor": 5
}
